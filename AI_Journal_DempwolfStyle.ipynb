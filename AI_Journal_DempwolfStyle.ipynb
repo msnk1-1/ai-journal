{
 "cells": [
  {
   "cell_type": "markdown",
   "id": "1dc7021e",
   "metadata": {},
   "source": [
    "# AI Usage Journal\n",
    "Messiah Khalfani  \n",
    "msnk@umd.edu  \n",
    "INST326 Section 0201\n"
   ]
  },
  {
   "cell_type": "markdown",
   "id": "37129038",
   "metadata": {},
   "source": [
    "## Week 1\n",
    "This week I used AI while working on the exercises to explain certain Python concepts and to provide coding examples for Python concepts including f-strings, type conversion, and string slicing. I did not use AI to complete any of the exercises directly. I did not use AI for debugging.  \n",
    "\n",
    "Here are my AI chat links: [link to chat]  \n",
    "\n",
    "My project team also discussed ways to use AI to help organize our project ideas and translate them into project requirements. This helped us start thinking ahead about how to structure our work.  \n",
    "\n",
    "I also experimented with comparing outputs between different AI tools and noticed that even when prompts are similar, the responses vary based on the model’s training and biases. This showed me why it’s important to test and refine prompts instead of copying results directly.  \n",
    "\n",
    "Overall, I learned how to better use AI as a support tool for explanations and brainstorming while making sure the actual coding and assignments remain my own work.\n"
   ]
  },
  {
   "cell_type": "markdown",
   "id": "2079b4ca",
   "metadata": {},
   "source": [
    "---\n",
    "_Add a new section for each week (Week 2, Week 3, etc.) following the same style._"
   ]
  }
 ],
 "metadata": {},
 "nbformat": 4,
 "nbformat_minor": 5
}
