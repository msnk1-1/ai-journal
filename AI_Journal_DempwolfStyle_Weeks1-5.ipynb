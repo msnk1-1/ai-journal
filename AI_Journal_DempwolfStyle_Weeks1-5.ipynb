{
  "nbformat": 4,
  "nbformat_minor": 5,
  "metadata": {
    "kernelspec": {
      "display_name": "Python 3",
      "language": "python",
      "name": "python3"
    },
    "language_info": {
      "name": "python",
      "version": "3.x"
    }
  },
  "cells": [
    {
      "cell_type": "markdown",
      "metadata": {},
      "source": [
        "# AI Usage Journal\n",
        "Messiah Khalfani  \n",
        "msnk@umd.edu  \n",
        "INST326 Section 0201\n"
      ]
    },
    {
      "cell_type": "markdown",
      "metadata": {},
      "source": [
        "## Week 1\n",
        "This week I used AI while working on the exercises to explain certain Python concepts and to provide coding examples for Python concepts including f-strings, type conversion, and string slicing. I did not use AI to complete any of the exercises directly. I did not use AI for debugging.\n",
        "\n",
        "Here are my AI chat links: [PASTE LINK]\n",
        "\n",
        "My project team also discussed ways to use AI to help organize our project ideas and translate them into project requirements. This helped us start thinking ahead about how to structure our work.\n",
        "\n",
        "I also compared outputs across tools and noticed responses vary even with similar prompts, which showed me why it is important to test and refine prompts instead of copying results directly.\n",
        "\n",
        "Overall, I used AI as a support tool for explanations and brainstorming while making sure the actual coding and assignments remained my own work.\n"
      ]
    },
    {
      "cell_type": "markdown",
      "metadata": {},
      "source": [
        "## Week 2\n",
        "This week I used AI while working on the Week 2 Python exercises. I mainly asked for explanations of concepts like list indexing, loops, and simple debugging patterns, but I still wrote my own code in the .ipynb file.\n",
        "\n",
        "A few representative AI chat links:\n",
        "- [Loops and list slicing](PASTE LINK)\n",
        "- [Formatting outputs](PASTE LINK)\n",
        "\n",
        "I also checked how to document AI use for this course so my journal format matches expectations. My team used AI briefly to brainstorm project requirement ideas, but we did not copy answers directly.\n",
        "\n",
        "Overall, I kept AI use limited to concept explanations and quick brainstorming.\n"
      ]
    },
    {
      "cell_type": "markdown",
      "metadata": {},
      "source": [
        "## Week 3\n",
        "I used AI to help with the functions/code reuse discussion. I asked for examples of turning repeated code into a helper function and how to explain the benefits in a short post.\n",
        "\n",
        "Links:\n",
        "- Discussion drafting: [PASTE LINK]\n",
        "- Syntax check for conditionals/loops: [PASTE LINK]\n",
        "- Journal setup sanity check: [PASTE LINK]\n",
        "\n",
        "Overall, I used AI for quick explanations and confirming my thinking. I still wrote the code and answers myself.\n"
      ]
    },
    {
      "cell_type": "markdown",
      "metadata": {},
      "source": [
        "## Week 4\n",
        "This week I continued building on AI-assisted work and refined prompt strategies.\n",
        "\n",
        "**What I did with AI**\n",
        "- Project design and architecture: planned high-level structure; AI suggested directory layout and module boundaries.\n",
        "- Writing and clarity improvements: rephrased sections of a report for clarity and flow.\n",
        "- Debugging and error tracing: found an off-by-one indexing issue in a nested loop.\n",
        "- Prompt workflow: outline -> expand -> refine -> polish for more structured outputs.\n",
        "- Model comparisons: noted differences between tools for code vs. explanation tasks.\n",
        "\n",
        "**Reflections**\n",
        "- Detailed prompts produced better-structured outputs.\n",
        "- AI did not replace thinking; I still validated logic and assumptions.\n",
        "- Revising AI text sometimes took longer than drafting from scratch.\n",
        "- I documented where AI helped and kept the final voice my own.\n"
      ]
    },
    {
      "cell_type": "markdown",
      "metadata": {},
      "source": [
        "## Week 5\n",
        "This week I used AI for several practical tasks and kept notes on where I accepted suggestions vs. where I edited.\n",
        "\n",
        "**What I used AI for**\n",
        "- Encapsulation review for a Binary Search Tree class; changed public fields to private and added getters.\n",
        "- RA event planning for \"Fall Into Success\"; updated the time to 7 PM and removed a snacks line.\n",
        "- Community mapping bullets; ensured each person had unique bullets and correct pronouns.\n",
        "- GitHub Pages maintenance; added Week 4 to the journal and fixed navigation links.\n",
        "- Small admin edits; step-by-step changes to dates and amounts on flyers/receipts.\n",
        "- Rewording discussion posts to sound more like me (more casual and natural tone).\n",
        "\n",
        "**Representative chat links**\n",
        "- Encapsulation review: [PASTE LINK]\n",
        "- Event text edits: [PASTE LINK]\n",
        "- Community mapping: [PASTE LINK]\n",
        "- GitHub HTML fix: [PASTE LINK]\n",
        "- Tone rewrite: [PASTE LINK]\n",
        "\n",
        "**Reflection**\n",
        "AI was useful for structure and polishing, but I still reviewed all logic and presentation myself. Using it in moderation kept my work authentic while saving time on repetitive edits.\n"
      ]
    }
  ]
}
