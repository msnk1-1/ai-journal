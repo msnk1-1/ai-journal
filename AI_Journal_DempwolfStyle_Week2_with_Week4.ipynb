{
  "cells": [
    {
      "cell_type": "markdown",
      "id": "2d6e6715",
      "metadata": {},
      "source": [
        "# AI Usage Journal\n",
        "Messiah Khalfani  \n",
        "msnk@umd.edu  \n",
        "INST326 Section 0201\n"
      ]
    },
    {
      "cell_type": "markdown",
      "id": "78dbeddc",
      "metadata": {},
      "source": []
    },
    {
      "cell_type": "markdown",
      "id": "c0fdfe03",
      "metadata": {},
      "source": [
        "## Week 1\n",
        "This week I used AI while working on the exercises to explain certain Python concepts and to \n",
        "provide coding examples for Python concepts including f-strings, type conversion, and string slicing. I \n",
        "did not use AI to complete any of the exercises directly. I did not use AI for debugging.  \n",
        "\n",
        "Here are my AI chat links: [link to chat]  \n",
        "\n",
        "My project team also discussed ways to use AI to help organize our project ideas and translate \n",
        "them into project requirements. This helped us start thinking ahead about how to structure our work.  \n",
        "\n",
        "I also experimented with comparing outputs between different AI tools and noticed that even when \n",
        "prompts are similar, the responses vary based on the model’s training and biases. This showed me why \n",
        "it’s important to test and refine prompts instead of copying results directly.  \n",
        "\n",
        "Overall, I learned how to better use AI as a support tool for explanations and brainstorming while \n",
        "making sure the actual coding and assignments remain my own work.\n"
      ]
    },
    {
      "cell_type": "markdown",
      "id": "fc5ca1e2",
      "metadata": {},
      "source": [
        "## Week 2\n",
        "This week I used AI while working on the Week 2 Python exercises. I mainly asked for explanations of \n",
        "concepts like list indexing, loops, and simple debugging patterns, but I still made sure to write my own \n",
        "code in the `.ipynb` file.  \n",
        "\n",
        "Here are a few of my AI chat links:  \n",
        "- [Chat about loops and list slicing](https://chatgpt.com/share/example-link-1)  \n",
        "- [Chat where I asked about formatting outputs](https://chatgpt.com/share/example-link-2)  \n",
        "\n",
        "I also used AI to help me check my understanding of how to document AI use for this course, since I \n",
        "wanted to make sure my journal format matches expectations.  \n",
        "\n",
        "Finally, my project team briefly used AI to brainstorm project requirement ideas. We didn’t take answers \n",
        "directly but it helped us organize our initial notes.  \n",
        "\n",
        "Overall, I kept the AI use limited to concept explanations and brainstorming. I learned more about how \n",
        "to structure for-loops efficiently and how to better comment my code so I remember what each part does.\n"
      ]
    },
    {
      "cell_type": "markdown",
      "id": "7d2888a4",
      "metadata": {},
      "source": [
        "---\n",
        "_Add a new section for each week (Week 3, Week 4, etc.) following the same style._"
      ]
    },
    {
      "cell_type": "markdown",
      "id": "596a231c",
      "metadata": {},
      "source": [
        "## Week 3\n",
        "This week I used AI mostly for help with the functions/code reuse discussion. I asked for examples of turning repeated code into a helper function and how to explain the benefits in a short post.  \n",
        "[https://chat.openai.com/share/123abc-week3-discussion](https://chat.openai.com/share/123abc-week3-discussion)\n",
        "\n",
        "I also used AI to double-check some Python syntax for conditionals and loops. I wanted to make sure I wasn’t mixing up indexing when I was practicing.  \n",
        "[https://chat.openai.com/share/456def-week3-syntax](https://chat.openai.com/share/456def-week3-syntax)\n",
        "\n",
        "Finally, I asked AI to sanity-check my journal setup one more time so I’m logging things the way the class expects.  \n",
        "[https://chat.openai.com/share/789ghi-week3-journal](https://chat.openai.com/share/789ghi-week3-journal)\n",
        "\n",
        "Overall, I used AI for quick explanations and confirming my thinking. I still wrote the code and answers myself.\n"
      ]
    },
    {
      "cell_type": "markdown",
      "metadata": {},
      "source": [
      ,
{
  "cell_type": "markdown",
  "metadata": {},
  "source": [
    "## Week 5\n",
    "This week I used AI for several practical tasks while continuing to refine how I apply it to real coursework and work duties.\n",
    "\n",
    "**What I Used AI For**\n",
    "- **Encapsulation review:** Asked ChatGPT (GPT-5) to analyze my Binary Search Tree class for encapsulation issues; it flagged that my `root` and `size` fields were public and suggested making them private with getters.\n",
    "- **RA event planning:** Used AI to help write and re-edit the \"Fall Into Success\" event description, adjusting details like the 7 PM start time and removing snack mentions.\n",
    "- **Community mapping bullets:** Generated bullet points for different residents, then had AI refine each one to be unique and fix pronouns without extra spacing.\n",
    "- **GitHub page maintenance:** Got HTML help adding Week 4 to my journal and fixing broken navigation links.\n",
    "- **Small admin edits:** Followed AI’s step-by-step directions to update dates and amounts on flyers and receipts.\n",
    "- **Rewording discussion posts:** Used AI to make my tone more natural and casual (more “and/also”) and to remove flagged academic phrasing.\n",
    "\n",
    "**Representative Chat Links**\n",
    "- [Encapsulation review chat](PASTE-LINK)\n",
    "- [Event text edit chat](PASTE-LINK)\n",
    "- [Community mapping refinement chat](PASTE-LINK)\n",
    "- [GitHub HTML fix chat](PASTE-LINK)\n",
    "- [Style-tone rewrite chat](PASTE-LINK)\n",
    "\n",
    "**Reflection**\n",
    "AI was helpful for structure and polishing, but I still reviewed all logic and presentation myself. I’m getting faster at spotting which suggestions are worth keeping. Using it in moderation keeps my work authentic while saving time on repetitive edits."
  ]
}
