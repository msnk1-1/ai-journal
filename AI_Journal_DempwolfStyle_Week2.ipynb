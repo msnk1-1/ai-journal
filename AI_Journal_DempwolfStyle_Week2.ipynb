{
 "cells": [
  {
   "cell_type": "markdown",
   "id": "2d6e6715",
   "metadata": {},
   "source": [
    "# AI Usage Journal\n",
    "Messiah Khalfani  \n",
    "msnk@umd.edu  \n",
    "INST326 Section 0201\n"
   ]
  },
  {
   "cell_type": "markdown",
   "id": "c0fdfe03",
   "metadata": {},
   "source": [
    "## Week 1\n",
    "This week I used AI while working on the exercises to explain certain Python concepts and to \n",
    "provide coding examples for Python concepts including f-strings, type conversion, and string slicing. I \n",
    "did not use AI to complete any of the exercises directly. I did not use AI for debugging.  \n",
    "\n",
    "Here are my AI chat links: [link to chat]  \n",
    "\n",
    "My project team also discussed ways to use AI to help organize our project ideas and translate \n",
    "them into project requirements. This helped us start thinking ahead about how to structure our work.  \n",
    "\n",
    "I also experimented with comparing outputs between different AI tools and noticed that even when \n",
    "prompts are similar, the responses vary based on the model’s training and biases. This showed me why \n",
    "it’s important to test and refine prompts instead of copying results directly.  \n",
    "\n",
    "Overall, I learned how to better use AI as a support tool for explanations and brainstorming while \n",
    "making sure the actual coding and assignments remain my own work.\n"
   ]
  },
  {
   "cell_type": "markdown",
   "id": "fc5ca1e2",
   "metadata": {},
   "source": [
    "## Week 2\n",
    "This week I used AI while working on the Week 2 Python exercises. I mainly asked for explanations of \n",
    "concepts like list indexing, loops, and simple debugging patterns, but I still made sure to write my own \n",
    "code in the `.ipynb` file.  \n",
    "\n",
    "Here are a few of my AI chat links:  \n",
    "- [Chat about loops and list slicing](https://chatgpt.com/share/example-link-1)  \n",
    "- [Chat where I asked about formatting outputs](https://chatgpt.com/share/example-link-2)  \n",
    "\n",
    "I also used AI to help me check my understanding of how to document AI use for this course, since I \n",
    "wanted to make sure my journal format matches expectations.  \n",
    "\n",
    "Finally, my project team briefly used AI to brainstorm project requirement ideas. We didn’t take answers \n",
    "directly but it helped us organize our initial notes.  \n",
    "\n",
    "Overall, I kept the AI use limited to concept explanations and brainstorming. I learned more about how \n",
    "to structure for-loops efficiently and how to better comment my code so I remember what each part does.\n"
   ]
  },
  {
   "cell_type": "markdown",
   "id": "7d2888a4",
   "metadata": {},
   "source": [
    "---\n",
    "_Add a new section for each week (Week 3, Week 4, etc.) following the same style._"
   ]
  }
 ],
 "metadata": {},
 "nbformat": 4,
 "nbformat_minor": 5
}
