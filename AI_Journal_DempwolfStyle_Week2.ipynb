{
 "cells": [
  {
   "cell_type": "markdown",
   "id": "2d6e6715",
   "metadata": {},
   "source": [
    "# AI Usage Journal\n",
    "Messiah Khalfani  \n",
    "msnk@umd.edu  \n",
    "INST326 Section 0201\n"
   ]
  },
  {
   "cell_type": "markdown",
   "id": "78dbeddc",
   "metadata": {},
   "source": []
  },
  {
   "cell_type": "markdown",
   "id": "c0fdfe03",
   "metadata": {},
   "source": [
    "## Week 1\n",
    "This week I used AI while working on the exercises to explain certain Python concepts and to \n",
    "provide coding examples for Python concepts including f-strings, type conversion, and string slicing. I \n",
    "did not use AI to complete any of the exercises directly. I did not use AI for debugging.  \n",
    "\n",
    "Here are my AI chat links: [link to chat]  \n",
    "\n",
    "My project team also discussed ways to use AI to help organize our project ideas and translate \n",
    "them into project requirements. This helped us start thinking ahead about how to structure our work.  \n",
    "\n",
    "I also experimented with comparing outputs between different AI tools and noticed that even when \n",
    "prompts are similar, the responses vary based on the model’s training and biases. This showed me why \n",
    "it’s important to test and refine prompts instead of copying results directly.  \n",
    "\n",
    "Overall, I learned how to better use AI as a support tool for explanations and brainstorming while \n",
    "making sure the actual coding and assignments remain my own work.\n"
   ]
  },
  {
   "cell_type": "markdown",
   "id": "fc5ca1e2",
   "metadata": {},
   "source": [
    "## Week 2\n",
    "This week I used AI while working on the Week 2 Python exercises. I mainly asked for explanations of \n",
    "concepts like list indexing, loops, and simple debugging patterns, but I still made sure to write my own \n",
    "code in the `.ipynb` file.  \n",
    "\n",
    "Here are a few of my AI chat links:  \n",
    "- [Chat about loops and list slicing](https://chatgpt.com/share/example-link-1)  \n",
    "- [Chat where I asked about formatting outputs](https://chatgpt.com/share/example-link-2)  \n",
    "\n",
    "I also used AI to help me check my understanding of how to document AI use for this course, since I \n",
    "wanted to make sure my journal format matches expectations.  \n",
    "\n",
    "Finally, my project team briefly used AI to brainstorm project requirement ideas. We didn’t take answers \n",
    "directly but it helped us organize our initial notes.  \n",
    "\n",
    "Overall, I kept the AI use limited to concept explanations and brainstorming. I learned more about how \n",
    "to structure for-loops efficiently and how to better comment my code so I remember what each part does.\n"
   ]
  },
  {
   "cell_type": "markdown",
   "id": "7d2888a4",
   "metadata": {},
   "source": [
    "---\n",
    "_Add a new section for each week (Week 3, Week 4, etc.) following the same style._"
   ]
  },
  {
   "cell_type": "markdown",
   "id": "596a231c",
   "metadata": {},
   "source": [
    "## Week 3\n",
    "This week I used AI mostly for help with the functions/code reuse discussion. I asked for examples of turning repeated code into a helper function and how to explain the benefits in a short post.  \n",
    "[https://chat.openai.com/share/123abc-week3-discussion](https://chat.openai.com/share/123abc-week3-discussion)\n",
    "\n",
    "I also used AI to double-check some Python syntax for conditionals and loops. I wanted to make sure I wasn’t mixing up indexing when I was practicing.  \n",
    "[https://chat.openai.com/share/456def-week3-syntax](https://chat.openai.com/share/456def-week3-syntax)\n",
    "\n",
    "Finally, I asked AI to sanity-check my journal setup one more time so I’m logging things the way the class expects.  \n",
    "[https://chat.openai.com/share/789ghi-week3-journal](https://chat.openai.com/share/789ghi-week3-journal)\n",
    "\n",
    "Overall, I used AI for quick explanations and confirming my thinking. I still wrote the code and answers myself.\n"
   ]
  }
 ],
 "metadata": {
  "language_info": {
   "name": "python"
  }
 },
 "nbformat": 4,
 "nbformat_minor": 5
}
{
 "cell_type": "markdown",
 "id": "week4entry",
 "metadata": {},
 "source": [
  "## Week 4\n",
  "\n",
  "This week I continued building on my AI-assisted work, focusing on deeper integration into my coursework and refining prompt strategies.\n",
  "\n",
  "**What I Did with AI**\n",
  "- **Project design & architecture:** I used ChatGPT to help plan the high-level architecture for my project. I described modules and dependencies, and the AI suggested directory structures and communication patterns.\n",
  "- **Writing & clarity improvements:** I drafted parts of my report and used AI to rephrase and polish the sections.\n",
  "- **Debugging & error tracing:** I pasted a nested loop bug into ChatGPT and it helped me catch an off-by-one indexing error.\n",
  "- **Prompt optimization & testing:** I experimented with chaining prompts (outline → expand → refine → polish).\n",
  "- **Comparisons across models:** I tested Claude, Gemini, and ChatGPT and noted their different strengths.\n",
  "\n",
  "**Reflections & Insights**\n",
  "- Better prompts yield better results.\n",
  "- AI doesn’t replace thinking; I had to manually validate logic.\n",
  "- Iterative interaction gave me more control over voice and structure.\n",
  "- Sometimes revising AI text took longer than writing from scratch.\n",
  "- I rewrote AI-assisted sections in my own voice for integrity.\n",
  "\n",
  "**Ideas for Week 5**\n",
  "- Try co-coding with AI (functions + tests).\n",
  "- Use AI for data visualization advice.\n",
  "- Evaluate domain-specific prompts.\n"
 ]
}
